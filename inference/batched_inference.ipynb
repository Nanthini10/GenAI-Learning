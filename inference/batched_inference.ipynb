{
 "cells": [
  {
   "cell_type": "code",
   "execution_count": 22,
   "metadata": {},
   "outputs": [],
   "source": [
    "import queue\n",
    "from dataclasses import dataclass\n",
    "from typing import List, Optional\n",
    "import numpy as np\n",
    "\n",
    "@dataclass\n",
    "class Request:\n",
    "    prompt: List[int]  # List of token ids\n",
    "    request_id: int\n",
    "\n",
    "@dataclass \n",
    "class RequestHandle:\n",
    "    request_id: int\n",
    "    result: Optional[List[int]] = None\n",
    "    is_complete: bool = False\n",
    "\n",
    "# Global queue to store incoming requests\n",
    "REQUEST_QUEUE = queue.Queue()\n",
    "BATCH_SIZE = 4  # Can be adjusted based on needs\n",
    "\n",
    "def dequeue_requests() -> Optional[Request]:\n",
    "    \"\"\"\n",
    "    Dequeue a single request from the queue\n",
    "    \"\"\"\n",
    "    try:\n",
    "        return REQUEST_QUEUE.get_nowait()\n",
    "    except queue.Empty:\n",
    "        return None\n",
    "\n",
    "def create_fake_sequences(num_sequences: int, seq_length: int = 10) -> List[List[int]]:\n",
    "    \"\"\"\n",
    "    Helper function to create fake token sequences for testing\n",
    "    \"\"\"\n",
    "    fake_sequences = []\n",
    "    for _ in range(num_sequences):\n",
    "        # Create random sequence of tokens (integers between 0 and 1000)\n",
    "        sequence = np.random.randint(0, 1000, size=seq_length).tolist()\n",
    "        fake_sequences.append(sequence)\n",
    "    return fake_sequences\n",
    "\n",
    "# Example usage:\n",
    "# Create some fake requests\n",
    "fake_seqs = create_fake_sequences(5)\n",
    "for i, seq in enumerate(fake_seqs):\n",
    "    request = Request(prompt=seq, request_id=i)\n",
    "    REQUEST_QUEUE.put(request)\n",
    "\n",
    "# Create handles for tracking results\n",
    "request_handles = {\n",
    "    i: RequestHandle(request_id=i) \n",
    "    for i in range(len(fake_seqs))\n",
    "}\n"
   ]
  },
  {
   "cell_type": "code",
   "execution_count": 23,
   "metadata": {},
   "outputs": [
    {
     "data": {
      "text/plain": [
       "[[483, 406, 47, 879, 279, 11, 196, 835, 422, 949],\n",
       " [825, 400, 292, 785, 69, 338, 728, 350, 855, 507],\n",
       " [648, 480, 778, 634, 656, 132, 636, 487, 124, 683],\n",
       " [634, 997, 223, 52, 484, 534, 570, 759, 38, 154],\n",
       " [642, 507, 825, 340, 897, 578, 152, 114, 589, 357]]"
      ]
     },
     "execution_count": 23,
     "metadata": {},
     "output_type": "execute_result"
    }
   ],
   "source": [
    "fake_seqs"
   ]
  },
  {
   "cell_type": "code",
   "execution_count": 24,
   "metadata": {},
   "outputs": [
    {
     "name": "stdout",
     "output_type": "stream",
     "text": [
      "Results:\n",
      "Request 0: [483, 406, 47, 879, 279, 11, 196, 835, 422, 949, 950]\n",
      "Request 1: [825, 400, 292, 785, 69, 338, 728, 350, 855, 507, 508]\n",
      "Request 2: [648, 480, 778, 634, 656, 132, 636, 487, 124, 683, 684]\n",
      "Request 3: [634, 997, 223, 52, 484, 534, 570, 759, 38, 154, 155]\n",
      "Request 4: [642, 507, 825, 340, 897, 578, 152, 114, 589, 357, 358]\n"
     ]
    }
   ],
   "source": [
    "def predict_next_token(sequences: List[List[int]]) -> List[int]:\n",
    "    \"\"\"\n",
    "    Simple function to predict next token for each sequence in the batch.\n",
    "    For now just adds 1 to the last token of each sequence.\n",
    "    \"\"\"\n",
    "    return [seq[-1] + 1 for seq in sequences]\n",
    "\n",
    "def sampling_loop(batch_size: int = BATCH_SIZE):\n",
    "    \"\"\"\n",
    "    Main sampling loop that processes batches of requests\n",
    "    \"\"\"\n",
    "    while True:\n",
    "        # Collect batch of requests\n",
    "        batch = []\n",
    "        for _ in range(batch_size):\n",
    "            request = dequeue_requests()\n",
    "            if request is None:\n",
    "                break\n",
    "            batch.append(request)\n",
    "            \n",
    "        if not batch:\n",
    "            break\n",
    "            \n",
    "        # Get sequences from batch\n",
    "        sequences = [req.prompt for req in batch]\n",
    "        \n",
    "        # Get predictions\n",
    "        next_tokens = predict_next_token(sequences)\n",
    "        \n",
    "        # Update results\n",
    "        for req, next_token in zip(batch, next_tokens):\n",
    "            handle = request_handles[req.request_id]\n",
    "            handle.result = req.prompt + [next_token]\n",
    "            handle.is_complete = True\n",
    "\n",
    "\n",
    "# Run sampling loop\n",
    "sampling_loop()\n",
    "print(\"Results:\")\n",
    "for handle in request_handles.values():\n",
    "    print(f\"Request {handle.request_id}: {handle.result}\")"
   ]
  },
  {
   "cell_type": "code",
   "execution_count": null,
   "metadata": {},
   "outputs": [],
   "source": []
  }
 ],
 "metadata": {
  "kernelspec": {
   "display_name": "langchain_agents",
   "language": "python",
   "name": "python3"
  },
  "language_info": {
   "codemirror_mode": {
    "name": "ipython",
    "version": 3
   },
   "file_extension": ".py",
   "mimetype": "text/x-python",
   "name": "python",
   "nbconvert_exporter": "python",
   "pygments_lexer": "ipython3",
   "version": "3.9.18"
  }
 },
 "nbformat": 4,
 "nbformat_minor": 2
}
